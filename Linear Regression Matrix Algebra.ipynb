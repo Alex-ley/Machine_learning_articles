{
 "cells": [
  {
   "cell_type": "code",
   "execution_count": 1,
   "metadata": {},
   "outputs": [],
   "source": [
    "import numpy as np\n",
    "import matplotlib.pyplot as plt"
   ]
  },
  {
   "cell_type": "code",
   "execution_count": 2,
   "metadata": {},
   "outputs": [],
   "source": [
    "data = np.genfromtxt(\"Simple_Data_Linear_Regression.csv\",delimiter=\",\") #if locally saved\n",
    "# otherwise download https://github.com/Alex-ley/Machine_learning_articles/blob/Part-2/Simple_Data_Linear_Regression.csv\n",
    "# or use directly https://raw.githubusercontent.com/Alex-ley/Machine_learning_articles/Part-2/Simple_Data_Linear_Regression.csv\n",
    "iterations = 500\n",
    "learning_rate = 0.05\n",
    "initial_m = 0\n",
    "initial_b = 0"
   ]
  },
  {
   "cell_type": "code",
   "execution_count": 3,
   "metadata": {},
   "outputs": [
    {
     "data": {
      "text/plain": [
       "array([[ 1. ,  4. ],\n",
       "       [ 1.2,  5.5],\n",
       "       [ 2. ,  6. ],\n",
       "       [ 2.1,  7. ],\n",
       "       [ 2.5,  8.5],\n",
       "       [ 3.1,  7.2],\n",
       "       [ 3.5,  9. ],\n",
       "       [ 4. , 11.4],\n",
       "       [ 4.2, 11. ],\n",
       "       [ 4.6, 12.5],\n",
       "       [ 5. , 13. ]])"
      ]
     },
     "execution_count": 3,
     "metadata": {},
     "output_type": "execute_result"
    }
   ],
   "source": [
    "data"
   ]
  },
  {
   "cell_type": "code",
   "execution_count": 4,
   "metadata": {},
   "outputs": [
    {
     "data": {
      "text/plain": [
       "<matplotlib.collections.PathCollection at 0x1e0e6afdba8>"
      ]
     },
     "execution_count": 4,
     "metadata": {},
     "output_type": "execute_result"
    },
    {
     "data": {
      "image/png": "[encoded data removed]",
      "text/plain": [
       "<Figure size 432x288 with 1 Axes>"
      ]
     },
     "metadata": {
      "needs_background": "light"
     },
     "output_type": "display_data"
    }
   ],
   "source": [
    "X_act = data[:,0]\n",
    "Y_act = data[:,1]\n",
    "plt.scatter(x=X_act,y=Y_act)"
   ]
  },
  {
   "cell_type": "code",
   "execution_count": 5,
   "metadata": {},
   "outputs": [],
   "source": [
    "X = X_act.reshape(-1,1) # reshape turns the array into a 1-D Matrix (x matrix)\n",
    "ones_v = np.ones([X.shape[0], 1]) # create a array containing only ones (to multiply by b or theta-0)\n",
    "ones_h = ones_v.reshape(1,-1) # create a array containing only ones (to multiply by the feature matrix)\n",
    "X = np.concatenate([ones_v, X],1) # cocatenate the ones to X matrix\n",
    "y = Y_act.reshape(-1,1) # create the y matrix, -1 tells numpy to figure out the dimension by itself\n",
    "initial_theta = np.array([[0,0]])"
   ]
  },
  {
   "cell_type": "code",
   "execution_count": 6,
   "metadata": {},
   "outputs": [
    {
     "data": {
      "text/plain": [
       "(array([[1., 1., 1., 1., 1., 1., 1., 1., 1., 1., 1.]]), array([[0, 0]]))"
      ]
     },
     "execution_count": 6,
     "metadata": {},
     "output_type": "execute_result"
    }
   ],
   "source": [
    "ones_h, initial_theta"
   ]
  },
  {
   "cell_type": "code",
   "execution_count": 7,
   "metadata": {},
   "outputs": [],
   "source": [
    "def computeCostAndDerivatives(X,y,theta,learning_rate):\n",
    "    cost = ones_h @ (np.power((X @ theta.T - y),2)) # @ makes np perform matrix multiplication        \n",
    "    avg_cost = cost / float(len(X))\n",
    "    \n",
    "    theta = theta - ((2*learning_rate)/len(X)) * ones_h@((X @ theta.T - y)*X) #brackets are very important for Matrix algebra here\n",
    "    \n",
    "    return avg_cost, theta"
   ]
  },
  {
   "cell_type": "code",
   "execution_count": 20,
   "metadata": {},
   "outputs": [
    {
     "data": {
      "text/plain": [
       "array([[2, 2],\n",
       "       [2, 4],\n",
       "       [2, 6]])"
      ]
     },
     "execution_count": 20,
     "metadata": {},
     "output_type": "execute_result"
    }
   ],
   "source": [
    "#example theta derivatives calculation\n",
    "test_x = np.array([[1,1],[1,2],[1,3]])\n",
    "test_y_error = np.array([[2],[2],[2]])\n",
    "test_y_error * test_x # = test_x * test_y_error"
   ]
  },
  {
   "cell_type": "code",
   "execution_count": 22,
   "metadata": {},
   "outputs": [
    {
     "data": {
      "text/plain": [
       "array([[ 6, 12]])"
      ]
     },
     "execution_count": 22,
     "metadata": {},
     "output_type": "execute_result"
    }
   ],
   "source": [
    "test_ones_h = np.array([[1,1,1]])\n",
    "test_ones_h @ (test_y_error * test_x)"
   ]
  },
  {
   "cell_type": "code",
   "execution_count": 8,
   "metadata": {},
   "outputs": [],
   "source": [
    "avg_cost, theta = computeCostAndDerivatives(X,y,initial_theta,learning_rate)"
   ]
  },
  {
   "cell_type": "code",
   "execution_count": 9,
   "metadata": {},
   "outputs": [
    {
     "data": {
      "text/plain": [
       "(array([[82.95909091]]), array([[0.86454545, 2.96972727]]))"
      ]
     },
     "execution_count": 9,
     "metadata": {},
     "output_type": "execute_result"
    }
   ],
   "source": [
    "avg_cost, theta"
   ]
  },
  {
   "cell_type": "code",
   "execution_count": 10,
   "metadata": {},
   "outputs": [],
   "source": [
    "def gradientDescent(X,y,theta,iterations,learning_rate):\n",
    "    avg_cost_array = []\n",
    "    for i in range(iterations):\n",
    "        avg_cost, theta = computeCostAndDerivatives(X,y,theta,learning_rate)\n",
    "        avg_cost_array.append(avg_cost)\n",
    "    return avg_cost, theta, avg_cost_array"
   ]
  },
  {
   "cell_type": "code",
   "execution_count": 11,
   "metadata": {},
   "outputs": [],
   "source": [
    "avg_cost, final_theta, avg_cost_array = gradientDescent(X,y,initial_theta,iterations,learning_rate)"
   ]
  },
  {
   "cell_type": "code",
   "execution_count": 12,
   "metadata": {},
   "outputs": [
    {
     "name": "stdout",
     "output_type": "stream",
     "text": [
      "after 500 iterations, the avg_cost=[[0.51678588]] theta=[[2.19687975 2.13652783]]\n"
     ]
    }
   ],
   "source": [
    "print(f\"after {iterations} iterations, the avg_cost={avg_cost} theta={final_theta}\")"
   ]
  },
  {
   "cell_type": "code",
   "execution_count": 13,
   "metadata": {},
   "outputs": [
    {
     "data": {
      "text/plain": [
       "[<matplotlib.lines.Line2D at 0x1e0e6bc1278>]"
      ]
     },
     "execution_count": 13,
     "metadata": {},
     "output_type": "execute_result"
    },
    {
     "data": {
      "image/png": "[encoded data removed]",
      "text/plain": [
       "<Figure size 432x288 with 1 Axes>"
      ]
     },
     "metadata": {
      "needs_background": "light"
     },
     "output_type": "display_data"
    }
   ],
   "source": [
    "plt.scatter(X_act, Y_act)\n",
    "axes = plt.gca()\n",
    "x_vals = np.array(axes.get_xlim())\n",
    "x_vals_matrix = np.concatenate([np.ones([2,1]),x_vals.reshape(-1,1)],1)\n",
    "# y_vals = final_theta[0][1]* x_vals + final_theta[0][0] #this is a simple case when x = mx + b\n",
    "y_vals = ((x_vals_matrix @ final_theta.T).T).flatten() #this is a more general case using matrix algebra\n",
    "plt.plot(x_vals, y_vals, 'r--')"
   ]
  },
  {
   "cell_type": "code",
   "execution_count": 14,
   "metadata": {},
   "outputs": [
    {
     "data": {
      "text/plain": [
       "Text(0, 0.5, 'Avg_cost')"
      ]
     },
     "execution_count": 14,
     "metadata": {},
     "output_type": "execute_result"
    },
    {
     "data": {
      "image/png": "[encoded data removed]",
      "text/plain": [
       "<Figure size 432x288 with 1 Axes>"
      ]
     },
     "metadata": {
      "needs_background": "light"
     },
     "output_type": "display_data"
    }
   ],
   "source": [
    "epochs = np.array(np.linspace(1,iterations,num=iterations)).reshape(-1,1)\n",
    "y_axis_cost = np.array(avg_cost_array,dtype='object').reshape(-1,1) #dtype= np.longdouble np.float64 etc.\n",
    "plt.title(f\"500 Iterations, learning_rate: {learning_rate}\")\n",
    "plt.ylim((0.5,0.9))\n",
    "plt.plot(epochs, y_axis_cost , 'r--')\n",
    "plt.xlabel('Iterations')\n",
    "plt.ylabel('Avg_cost')"
   ]
  },
  {
   "cell_type": "code",
   "execution_count": null,
   "metadata": {},
   "outputs": [],
   "source": []
  },
  {
   "cell_type": "code",
   "execution_count": null,
   "metadata": {},
   "outputs": [],
   "source": []
  }
 ],
 "metadata": {
  "kernelspec": {
   "display_name": "Python 3",
   "language": "python",
   "name": "python3"
  },
  "language_info": {
   "codemirror_mode": {
    "name": "ipython",
    "version": 3
   },
   "file_extension": ".py",
   "mimetype": "text/x-python",
   "name": "python",
   "nbconvert_exporter": "python",
   "pygments_lexer": "ipython3",
   "version": "3.6.7"
  }
 },
 "nbformat": 4,
 "nbformat_minor": 2
}
