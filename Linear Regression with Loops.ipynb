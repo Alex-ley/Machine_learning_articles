{
 "cells": [
  {
   "cell_type": "code",
   "execution_count": 1,
   "metadata": {},
   "outputs": [],
   "source": [
    "import numpy as np\n",
    "import matplotlib.pyplot as plt"
   ]
  },
  {
   "cell_type": "code",
   "execution_count": 2,
   "metadata": {},
   "outputs": [],
   "source": [
    "data = np.genfromtxt(\"Simple_Data_Linear_Regression.csv\",delimiter=\",\") #if locally saved\n",
    "# otherwise download https://github.com/Alex-ley/Machine_learning_articles/blob/Part-2/Simple_Data_Linear_Regression.csv\n",
    "# or use directly https://raw.githubusercontent.com/Alex-ley/Machine_learning_articles/Part-2/Simple_Data_Linear_Regression.csv\n",
    "iterations = 500\n",
    "learning_rate = 0.05\n",
    "initial_m = 0\n",
    "initial_b = 0"
   ]
  },
  {
   "cell_type": "code",
   "execution_count": 3,
   "metadata": {},
   "outputs": [
    {
     "data": {
      "text/plain": [
       "array([[ 1. ,  4. ],\n",
       "       [ 1.2,  5.5],\n",
       "       [ 2. ,  6. ],\n",
       "       [ 2.1,  7. ],\n",
       "       [ 2.5,  8.5],\n",
       "       [ 3.1,  7.2],\n",
       "       [ 3.5,  9. ],\n",
       "       [ 4. , 11.4],\n",
       "       [ 4.2, 11. ],\n",
       "       [ 4.6, 12.5],\n",
       "       [ 5. , 13. ]])"
      ]
     },
     "execution_count": 3,
     "metadata": {},
     "output_type": "execute_result"
    }
   ],
   "source": [
    "data"
   ]
  },
  {
   "cell_type": "code",
   "execution_count": 4,
   "metadata": {},
   "outputs": [
    {
     "data": {
      "text/plain": [
       "<matplotlib.collections.PathCollection at 0x15270c5eb38>"
      ]
     },
     "execution_count": 4,
     "metadata": {},
     "output_type": "execute_result"
    },
    {
     "data": {
      "image/png": "[encoded data removed]",
      "text/plain": [
       "<Figure size 432x288 with 1 Axes>"
      ]
     },
     "metadata": {
      "needs_background": "light"
     },
     "output_type": "display_data"
    }
   ],
   "source": [
    "X_act = data[:,0]\n",
    "Y_act = data[:,1]\n",
    "plt.scatter(x=X_act,y=Y_act)"
   ]
  },
  {
   "cell_type": "code",
   "execution_count": 5,
   "metadata": {},
   "outputs": [],
   "source": [
    "def computeCostAndDerivatives(X_act,Y_act,m,b):\n",
    "    cost = 0\n",
    "    m_deriv = 0\n",
    "    b_deriv = 0\n",
    "    for i in range(len(X_act)):\n",
    "        loss = Y_act[i] - (X_act[i]*m + b)\n",
    "        cost += loss**2\n",
    "        m_deriv += X_act[i]*loss\n",
    "        b_deriv += loss\n",
    "        \n",
    "    avg_cost = round(cost / len(X_act),5)\n",
    "    m_deriv = (m_deriv * -2) / len(X_act)\n",
    "    b_deriv = (b_deriv * -2) / len(X_act)\n",
    "    return avg_cost, m_deriv, b_deriv"
   ]
  },
  {
   "cell_type": "code",
   "execution_count": 6,
   "metadata": {},
   "outputs": [],
   "source": [
    "avg_cost, m_deriv, b_deriv = computeCostAndDerivatives(X_act,Y_act,initial_m,initial_b)"
   ]
  },
  {
   "cell_type": "code",
   "execution_count": 7,
   "metadata": {},
   "outputs": [
    {
     "data": {
      "text/plain": [
       "(82.95909, -59.39454545454546, -17.29090909090909)"
      ]
     },
     "execution_count": 7,
     "metadata": {},
     "output_type": "execute_result"
    }
   ],
   "source": [
    "avg_cost, m_deriv, b_deriv"
   ]
  },
  {
   "cell_type": "code",
   "execution_count": 8,
   "metadata": {},
   "outputs": [],
   "source": [
    "def gradientDescent(X_act,Y_act,m,b,iterations,learning_rate):\n",
    "    avg_cost_array = []\n",
    "    for i in range(iterations):\n",
    "        avg_cost, m_deriv, b_deriv = computeCostAndDerivatives(X_act,Y_act,m,b)\n",
    "        avg_cost_array.append(avg_cost)\n",
    "        m -= m_deriv * learning_rate\n",
    "        b -= b_deriv * learning_rate\n",
    "    return avg_cost, m, b, avg_cost_array"
   ]
  },
  {
   "cell_type": "code",
   "execution_count": 9,
   "metadata": {},
   "outputs": [],
   "source": [
    "avg_cost, m, b, avg_cost_array = gradientDescent(X_act,Y_act,initial_m,initial_b,iterations,learning_rate)"
   ]
  },
  {
   "cell_type": "code",
   "execution_count": 10,
   "metadata": {},
   "outputs": [
    {
     "name": "stdout",
     "output_type": "stream",
     "text": [
      "after 500 iterations, the avg_cost=0.51679 m=2.13652783302896 b=2.196879745806536\n"
     ]
    }
   ],
   "source": [
    "print(f\"after {iterations} iterations, the avg_cost={avg_cost} m={m} b={b}\")"
   ]
  },
  {
   "cell_type": "code",
   "execution_count": 11,
   "metadata": {},
   "outputs": [
    {
     "data": {
      "text/plain": [
       "[<matplotlib.lines.Line2D at 0x15270d1eac8>]"
      ]
     },
     "execution_count": 11,
     "metadata": {},
     "output_type": "execute_result"
    },
    {
     "data": {
      "image/png": "[encoded data removed]",
      "text/plain": [
       "<Figure size 432x288 with 1 Axes>"
      ]
     },
     "metadata": {
      "needs_background": "light"
     },
     "output_type": "display_data"
    }
   ],
   "source": [
    "plt.scatter(X_act, Y_act)\n",
    "axes = plt.gca()\n",
    "x_vals = np.array(axes.get_xlim()) \n",
    "y_vals = m* x_vals + b\n",
    "plt.plot(x_vals, y_vals, 'r--')"
   ]
  },
  {
   "cell_type": "code",
   "execution_count": 12,
   "metadata": {},
   "outputs": [
    {
     "data": {
      "text/plain": [
       "[<matplotlib.lines.Line2D at 0x15270da3780>]"
      ]
     },
     "execution_count": 12,
     "metadata": {},
     "output_type": "execute_result"
    },
    {
     "data": {
      "image/png": "[encoded data removed]",
      "text/plain": [
       "<Figure size 432x288 with 1 Axes>"
      ]
     },
     "metadata": {
      "needs_background": "light"
     },
     "output_type": "display_data"
    }
   ],
   "source": [
    "epochs = np.array(np.linspace(1,iterations,num=iterations)).reshape(-1,1)\n",
    "y_axis_cost = np.array(avg_cost_array,dtype='object').reshape(-1,1) #dtype= np.longdouble np.float64 etc.\n",
    "plt.title(f\"500 Iterations, learning_rate: {learning_rate}\")\n",
    "plt.ylim((0.5,0.90))\n",
    "plt.plot(epochs, y_axis_cost , 'r--')"
   ]
  },
  {
   "cell_type": "code",
   "execution_count": 13,
   "metadata": {},
   "outputs": [],
   "source": [
    "iterations = 500\n",
    "slow_learning_rate = 0.005\n",
    "initial_m = 0\n",
    "initial_b = 0\n",
    "avg_cost, m, b, slow_avg_cost_array =gradientDescent(X_act,Y_act,initial_m,initial_b,iterations,slow_learning_rate)"
   ]
  },
  {
   "cell_type": "code",
   "execution_count": 14,
   "metadata": {},
   "outputs": [
    {
     "name": "stdout",
     "output_type": "stream",
     "text": [
      "after 500 iterations, the avg_cost=0.59684 m=2.338671261566973 b=1.4834876074737449\n"
     ]
    }
   ],
   "source": [
    "print(f\"after {iterations} iterations, the avg_cost={avg_cost} m={m} b={b}\")"
   ]
  },
  {
   "cell_type": "code",
   "execution_count": 15,
   "metadata": {},
   "outputs": [
    {
     "data": {
      "text/plain": [
       "[<matplotlib.lines.Line2D at 0x15271026080>]"
      ]
     },
     "execution_count": 15,
     "metadata": {},
     "output_type": "execute_result"
    },
    {
     "data": {
      "image/png": "[encoded data removed]",
      "text/plain": [
       "<Figure size 432x288 with 1 Axes>"
      ]
     },
     "metadata": {
      "needs_background": "light"
     },
     "output_type": "display_data"
    }
   ],
   "source": [
    "y_axis_cost = np.array(slow_avg_cost_array,dtype='object').reshape(-1,1)\n",
    "plt.title(f\"500 Iterations, learning_rate: {slow_learning_rate}\")\n",
    "plt.ylim((0.5,0.90))\n",
    "plt.plot(epochs, y_axis_cost, 'r--')"
   ]
  },
  {
   "cell_type": "code",
   "execution_count": 16,
   "metadata": {},
   "outputs": [],
   "source": [
    "iterations = 500\n",
    "fast_learning_rate = 0.085\n",
    "initial_m = 0\n",
    "initial_b = 0\n",
    "avg_cost, m, b, fast_avg_cost_array = gradientDescent(X_act,Y_act,initial_m,initial_b,iterations,fast_learning_rate)"
   ]
  },
  {
   "cell_type": "code",
   "execution_count": 17,
   "metadata": {},
   "outputs": [
    {
     "name": "stdout",
     "output_type": "stream",
     "text": [
      "after 500 iterations, the avg_cost=0.51679 m=2.1360899299056544 b=2.197833940981964\n"
     ]
    }
   ],
   "source": [
    "print(f\"after {iterations} iterations, the avg_cost={avg_cost} m={m} b={b}\")"
   ]
  },
  {
   "cell_type": "code",
   "execution_count": 18,
   "metadata": {},
   "outputs": [
    {
     "data": {
      "text/plain": [
       "[<matplotlib.lines.Line2D at 0x15271068160>]"
      ]
     },
     "execution_count": 18,
     "metadata": {},
     "output_type": "execute_result"
    },
    {
     "data": {
      "image/png": "[encoded data removed]",
      "text/plain": [
       "<Figure size 432x288 with 1 Axes>"
      ]
     },
     "metadata": {
      "needs_background": "light"
     },
     "output_type": "display_data"
    }
   ],
   "source": [
    "y_axis_cost = np.array(fast_avg_cost_array,dtype=np.float64).reshape(-1,1)\n",
    "plt.title(f\"500 Iterations, learning_rate: {fast_learning_rate}\")\n",
    "plt.ylim((0,5))\n",
    "plt.plot(epochs, y_axis_cost, 'r--')"
   ]
  },
  {
   "cell_type": "code",
   "execution_count": 22,
   "metadata": {},
   "outputs": [],
   "source": [
    "iterations = 500\n",
    "too_fast_learning_rate = 0.1\n",
    "initial_m = 0\n",
    "initial_b = 0\n",
    "avg_cost, m, b, too_fast_avg_cost_array = gradientDescent(X_act,Y_act,initial_m,initial_b,iterations,too_fast_learning_rate)"
   ]
  },
  {
   "cell_type": "code",
   "execution_count": 23,
   "metadata": {},
   "outputs": [
    {
     "name": "stdout",
     "output_type": "stream",
     "text": [
      "after 500 iterations, the avg_cost=4.181682838849052e+125 m=-2.424754604758981e+62 b=-6.870670180285428e+61\n"
     ]
    }
   ],
   "source": [
    "print(f\"after {iterations} iterations, the avg_cost={avg_cost} m={m} b={b}\")"
   ]
  },
  {
   "cell_type": "code",
   "execution_count": 30,
   "metadata": {},
   "outputs": [
    {
     "data": {
      "text/plain": [
       "[<matplotlib.lines.Line2D at 0x15271327be0>]"
      ]
     },
     "execution_count": 30,
     "metadata": {},
     "output_type": "execute_result"
    },
    {
     "data": {
      "image/png": "[encoded data removed]",
      "text/plain": [
       "<Figure size 432x288 with 1 Axes>"
      ]
     },
     "metadata": {
      "needs_background": "light"
     },
     "output_type": "display_data"
    }
   ],
   "source": [
    "y_axis_cost = np.array(too_fast_avg_cost_array,dtype=np.float64).reshape(-1,1)\n",
    "plt.title(f\"500 Iterations, learning_rate: {too_fast_learning_rate}\")\n",
    "# plt.ylim((0,1e124))\n",
    "plt.plot(epochs, y_axis_cost, 'r--')"
   ]
  },
  {
   "cell_type": "code",
   "execution_count": null,
   "metadata": {},
   "outputs": [],
   "source": []
  }
 ],
 "metadata": {
  "kernelspec": {
   "display_name": "Python 3",
   "language": "python",
   "name": "python3"
  },
  "language_info": {
   "codemirror_mode": {
    "name": "ipython",
    "version": 3
   },
   "file_extension": ".py",
   "mimetype": "text/x-python",
   "name": "python",
   "nbconvert_exporter": "python",
   "pygments_lexer": "ipython3",
   "version": "3.6.7"
  }
 },
 "nbformat": 4,
 "nbformat_minor": 2
}
